{
  "nbformat": 4,
  "nbformat_minor": 0,
  "metadata": {
    "colab": {
      "provenance": [],
      "toc_visible": true
    },
    "kernelspec": {
      "name": "python3",
      "display_name": "Python 3"
    },
    "language_info": {
      "name": "python"
    }
  },
  "cells": [
    {
      "cell_type": "markdown",
      "source": [
        "## Выбор категориальный столбцов"
      ],
      "metadata": {
        "id": "Dr4h99DtD_CM"
      }
    },
    {
      "cell_type": "code",
      "source": [
        "categorical = data.select_dtypes(include=['object'])"
      ],
      "metadata": {
        "id": "GXTN1GJhECKz"
      },
      "execution_count": null,
      "outputs": []
    },
    {
      "cell_type": "markdown",
      "source": [
        "## Корреляция пирсона\n",
        "\n",
        "Какой столбец имеет наибольшую по модулю корреляцию Пирсона с целевой переменной price_range? В ответ запишите коэффициент корреляции (со знаком), округленный до сотых."
      ],
      "metadata": {
        "id": "GvwyZecONG1w"
      }
    },
    {
      "cell_type": "code",
      "source": [
        "#create DataFrame\n",
        "df = pd.DataFrame({'points': [25, 12, 15, 14, 19, 23, 25, 29],\n",
        " 'assists': [5, 7, 7, 9, 12, 9, 9, 4],\n",
        " 'rebounds': [11, 8, 10, 6, 6, 5, 9, 12]})\n",
        "\n",
        "for column in df.columns:\n",
        "  print(df[column].corr(df['assists']))\n"
      ],
      "metadata": {
        "id": "UrsLKtm7NGFu"
      },
      "execution_count": null,
      "outputs": []
    },
    {
      "cell_type": "markdown",
      "source": [
        "Коэффициент корреляции равен -0,359. Поскольку эта корреляция отрицательна,\n",
        "это говорит нам о том, что очки и передачи имеют отрицательную корреляцию."
      ],
      "metadata": {
        "id": "_JIQ-dhWFw6Y"
      }
    },
    {
      "cell_type": "markdown",
      "source": [
        "## Замена значений"
      ],
      "metadata": {
        "id": "_02xkQKEFo64"
      }
    },
    {
      "cell_type": "code",
      "source": [
        "values_to_change = {\n",
        "    'Chorn': 'Churn',\n",
        "    'Not chorn': 'Not churn'\n",
        "}\n",
        "\n",
        "print(train[(train['target'] == 'Not chorn') | (train['target'] == 'Chorn')].shape[0])\n",
        "train['target'].replace(values_to_change, inplace=True)"
      ],
      "metadata": {
        "id": "A0WwPGgqFqTX"
      },
      "execution_count": null,
      "outputs": []
    },
    {
      "cell_type": "markdown",
      "source": [
        "## Столбцы с пропусками"
      ],
      "metadata": {
        "id": "qnkiDurMF7Pj"
      }
    },
    {
      "cell_type": "code",
      "source": [
        "column_with_most_nans = train.isna().sum().idxmax()\n",
        "nan_columns = train.columns[train.isna().any()]\n",
        "min_nan_column = train.columns[train[nan_columns].isna().sum().argmin()]"
      ],
      "metadata": {
        "id": "uc0SaS_xF9hP"
      },
      "execution_count": null,
      "outputs": []
    },
    {
      "cell_type": "markdown",
      "source": [
        "## Удаление строк"
      ],
      "metadata": {
        "id": "4Z3Pnj-UGCU0"
      }
    },
    {
      "cell_type": "code",
      "source": [
        "rows_with_nans = train[train[min_nan_column].isna()].index\n",
        "train.drop(rows_with_nans, inplace=True)\n",
        "print(f'Количество удаленных строк: {len(rows_with_nans)}')"
      ],
      "metadata": {
        "id": "zkCPAekRGE97"
      },
      "execution_count": null,
      "outputs": []
    },
    {
      "cell_type": "markdown",
      "source": [
        "## Количетсво уникальный значений"
      ],
      "metadata": {
        "id": "3b16UOVbGJsa"
      }
    },
    {
      "cell_type": "code",
      "source": [
        "columns_with_few_values = train.drop(columns=['target']).nunique()\n",
        "num_columns_with_few_values = (columns_with_few_values < 5).sum()\n",
        "print(f'Количество столбцов с менее чем 5 различными значениями: {num_columns_with_few_values}')"
      ],
      "metadata": {
        "id": "GGgijghlGLsQ"
      },
      "execution_count": null,
      "outputs": []
    },
    {
      "cell_type": "markdown",
      "source": [
        "## Условия"
      ],
      "metadata": {
        "id": "PfraMvowIpQh"
      }
    },
    {
      "cell_type": "code",
      "source": [
        "filtered_train = train[(train['2'] > train['2'].mean()) & (train['13'] < train['13'].median())]"
      ],
      "metadata": {
        "id": "uuXlLwsUIqsr"
      },
      "execution_count": null,
      "outputs": []
    },
    {
      "cell_type": "markdown",
      "source": [
        "## Число значений каждого вида в столбце"
      ],
      "metadata": {
        "id": "677SWZd8QvoY"
      }
    },
    {
      "cell_type": "code",
      "source": [
        "df[\"points\"].value_counts()"
      ],
      "metadata": {
        "id": "Pu00nu-cQtEW"
      },
      "execution_count": null,
      "outputs": []
    },
    {
      "cell_type": "markdown",
      "source": [
        "## Кодировщики"
      ],
      "metadata": {
        "id": "eAhbz0IkH_lf"
      }
    },
    {
      "cell_type": "markdown",
      "source": [
        "### OneHoteEncoding"
      ],
      "metadata": {
        "id": "e98oNgn2GZvN"
      }
    },
    {
      "cell_type": "code",
      "source": [
        "new_encoded_train = pd.get_dummies(train, columns=['cat_bio', 'education', 'meal', 'preparation course', 'type', 'group'], drop_first=True)\n",
        "new_encoded_test = pd.get_dummies(test, columns=['cat_bio', 'education', 'meal', 'preparation course', 'type', 'group'], drop_first=True)"
      ],
      "metadata": {
        "id": "jlUx-fXZG-Xw"
      },
      "execution_count": null,
      "outputs": []
    },
    {
      "cell_type": "code",
      "source": [
        "# OneHotEncoding для столбца touch_screen\n",
        "encoder = OneHotEncoder(drop='first', sparse=False)\n",
        "touch_screen_encoded = encoder.fit_transform(X[['touch_screen']])\n",
        "touch_screen_encoded_df = pd.DataFrame(touch_screen_encoded, columns=encoder.get_feature_names_out(['touch_screen']))\n",
        "\n",
        "# Замена старого столбца на закодированные данные\n",
        "X = X.drop(columns=['touch_screen']).join(touch_screen_encoded_df)"
      ],
      "metadata": {
        "id": "SuyrlKcgTdny"
      },
      "execution_count": null,
      "outputs": []
    },
    {
      "cell_type": "markdown",
      "source": [
        "### LabelEncoding"
      ],
      "metadata": {
        "id": "dLEA0dNrGrRE"
      }
    },
    {
      "cell_type": "code",
      "source": [
        "from sklearn import preprocessing\n",
        "\n",
        "label_encoder = preprocessing.LabelEncoder()\n",
        "# Encode labels in column 'species'.\n",
        "train['7'] = label_encoder.fit_transform(train['7'])\n",
        "train['7'].unique()"
      ],
      "metadata": {
        "id": "CdaqO-nkVdMP"
      },
      "execution_count": null,
      "outputs": []
    },
    {
      "cell_type": "markdown",
      "source": [
        "## Модели"
      ],
      "metadata": {
        "id": "oWWXdx-NHuH6"
      }
    },
    {
      "cell_type": "markdown",
      "source": [
        "### Импорт моделей"
      ],
      "metadata": {
        "id": "l97gdUd-EUXv"
      }
    },
    {
      "cell_type": "code",
      "source": [
        "from catboost import CatBoostClassifier()\n",
        "from sklearn.linear_model import LogisticRegression\n",
        "from sklearn.model_selection import cross_val_score\n",
        "from sklearn.model_selection import GridSearchCV\n",
        "from sklearn.metrics import f1_score, make_scorer"
      ],
      "metadata": {
        "id": "Kt6pshsKEWG7"
      },
      "execution_count": null,
      "outputs": []
    },
    {
      "cell_type": "markdown",
      "source": [
        "### DecisionTreeClassifier"
      ],
      "metadata": {
        "id": "4n2Ocdq3HI12"
      }
    },
    {
      "cell_type": "code",
      "source": [
        "model = DecisionTreeClassifier(criterion='entropy', max_depth=5, splitter='best')\n",
        "\n",
        "roc_auc_scorer = make_scorer(roc_auc_score)\n",
        "scores = cross_val_score(model, X_encoded, y, cv=3, scoring=\"roc_auc\")\n",
        "\n",
        "mean_roc_auc = scores.mean()\n",
        "rounded_mean_roc_auc = mean_roc_auc\n",
        "\n",
        "print(\"Средний roc-auc по фолдам:\", rounded_mean_roc_auc)"
      ],
      "metadata": {
        "id": "UVpX-pSKHLhk"
      },
      "execution_count": null,
      "outputs": []
    },
    {
      "cell_type": "markdown",
      "source": [
        "### CatBoostClassifier"
      ],
      "metadata": {
        "id": "K2hrm8eQHWTS"
      }
    },
    {
      "cell_type": "code",
      "source": [
        "model = CatBoostClassifier(random_state=42, verbose=0, cat_feature['14',])\n",
        "param_grid = {\n",
        "    'iterations': [100, 200, 300],\n",
        "    'depth': [4, 6, 8],\n",
        "    'learning_rate': [0.01, 0.1, 0.3]\n",
        "}\n",
        "grid_search = GridSearchCV(model, param_grid, cv=3, scoring='f1')\n",
        "grid_search.fit(X, y)\n",
        "best_params = grid_search.best_params_\n",
        "best_model = CatBoostClassifier(**best_params, random_state=42, verbose=0)\n",
        "best_model.fit(X, y)\n",
        "y_pred = best_model.predict(X_test)\n",
        "\n",
        "f1 = f1_score(y_test, y_pred)\n",
        "\n",
        "print(f'Наилучшие параметры: {best_params}')\n",
        "print(f'F1-Score на тестовых данных: {round(f1, 2)}')"
      ],
      "metadata": {
        "id": "GOOpnKpLHY00"
      },
      "execution_count": null,
      "outputs": []
    },
    {
      "cell_type": "markdown",
      "source": [
        "### LogisticRegression"
      ],
      "metadata": {
        "id": "q9LZMz5uHoY2"
      }
    },
    {
      "cell_type": "code",
      "source": [
        "model = LogisticRegression(random_state=42, max_iter=10000)\n",
        "param_grid = {'C': [0.001, 0.01, 0.1, 1, 10, 100]}\n",
        "f1_scorer = make_scorer(f1_score)\n",
        "grid_search = GridSearchCV(model, param_grid, cv=3, scoring=f1_scorer)\n",
        "grid_search.fit(X, y)\n",
        "best_C = grid_search.best_params_['C']\n",
        "best_f1_score = grid_search.best_score_"
      ],
      "metadata": {
        "id": "pdcpkMlSHsdr"
      },
      "execution_count": null,
      "outputs": []
    },
    {
      "cell_type": "markdown",
      "source": [
        "## GridSearchCV"
      ],
      "metadata": {
        "id": "U1gTkHT_FK__"
      }
    },
    {
      "cell_type": "code",
      "source": [
        "param_grid = {\n",
        "    'C' : [0.001, 0.01, 1, 10, 100]\n",
        "}\n",
        "\n",
        "grid_search = GridSearchCV(model, param_grid, cv=3, scoring=f1_scorer)\n",
        "grid_search.fit(X, y)\n",
        "best_C = grid_search.best_params_['C']\n",
        "print(f'Наилучшее значение C: {best_C}')"
      ],
      "metadata": {
        "id": "S0gftBF3FN88"
      },
      "execution_count": null,
      "outputs": []
    },
    {
      "cell_type": "markdown",
      "source": [
        "## Кроссвалидация"
      ],
      "metadata": {
        "id": "s8kq82PkFQDF"
      }
    },
    {
      "cell_type": "code",
      "source": [
        "model = LogisticRegression(random_state=42)\n",
        "f1_scorer = make_scorer(f1_score)\n",
        "scores = cross_val_score(model, X, y, cv=3, scoring=f1_scorer)\n",
        "mean_f1_score = scores.mean()"
      ],
      "metadata": {
        "id": "4W3ZtMW8FWSM"
      },
      "execution_count": null,
      "outputs": []
    },
    {
      "cell_type": "markdown",
      "source": [
        "## Вывод результатов в CSV"
      ],
      "metadata": {
        "id": "qV8I52fIEh_g"
      }
    },
    {
      "cell_type": "code",
      "source": [
        "best_model.fit(X, y)\n",
        "predictions = best_model.predict(test)\n",
        "test['target'] = predictions\n",
        "test[['target']].to_csv(\"result.csv\", index=False)"
      ],
      "metadata": {
        "id": "RwM80GZcasOz"
      },
      "execution_count": null,
      "outputs": []
    }
  ]
}